{
  "cells": [
    {
      "cell_type": "code",
      "execution_count": 1,
      "metadata": {
        "id": "PuxX42QV05BO"
      },
      "outputs": [],
      "source": [
        "import paito\n",
        "import pandas as pd\n",
        "from time import time"
      ]
    },
    {
      "cell_type": "code",
      "execution_count": 2,
      "metadata": {
        "colab": {
          "base_uri": "https://localhost:8080/",
          "height": 206
        },
        "id": "z_DRHS4A05BQ",
        "outputId": "ddd837d1-c887-4adf-c2cf-6cd816af0ce5"
      },
      "outputs": [
        {
          "data": {
            "text/html": [
              "<div>\n",
              "<style scoped>\n",
              "    .dataframe tbody tr th:only-of-type {\n",
              "        vertical-align: middle;\n",
              "    }\n",
              "\n",
              "    .dataframe tbody tr th {\n",
              "        vertical-align: top;\n",
              "    }\n",
              "\n",
              "    .dataframe thead th {\n",
              "        text-align: right;\n",
              "    }\n",
              "</style>\n",
              "<table border=\"1\" class=\"dataframe\">\n",
              "  <thead>\n",
              "    <tr style=\"text-align: right;\">\n",
              "      <th></th>\n",
              "      <th>TITULO</th>\n",
              "      <th>ANO</th>\n",
              "      <th>NOMES_AJUSTADOS</th>\n",
              "    </tr>\n",
              "  </thead>\n",
              "  <tbody>\n",
              "    <tr>\n",
              "      <th>0</th>\n",
              "      <td>POSSVEL DESCREVER EPISDIOS DE SRIES DE TELEVI...</td>\n",
              "      <td>2017.0</td>\n",
              "      <td>['PEDRO OLMO STANCIOLI VAZ DE MELO', 'ADRIANO ...</td>\n",
              "    </tr>\n",
              "    <tr>\n",
              "      <th>1</th>\n",
              "      <td>POSSVEL PREVER EVASO COM BASE APENAS NO DESEM...</td>\n",
              "      <td>2021.0</td>\n",
              "      <td>['SIMONE DE LIMA MARTINS', 'ALEXANDRE PLASTINO...</td>\n",
              "    </tr>\n",
              "    <tr>\n",
              "      <th>2</th>\n",
              "      <td>10SENT A STABLE SENTIMENT ANALYSIS METHOD BASE...</td>\n",
              "      <td>2019.0</td>\n",
              "      <td>['FABRICIO BENEVENUTO DE SOUZA', 'MARCOS ANDRE...</td>\n",
              "    </tr>\n",
              "    <tr>\n",
              "      <th>3</th>\n",
              "      <td>2015 IEEE LATIN AMERICA NETWORK OPERATION AND ...</td>\n",
              "      <td>2016.0</td>\n",
              "      <td>['AUGUSTO JOSE VENANCIO NETO', 'ALDRI LUIZ DOS...</td>\n",
              "    </tr>\n",
              "    <tr>\n",
              "      <th>4</th>\n",
              "      <td>2ISOGENIES BETWEEN ELLIPTIC CURVES IN HESSE MODEL</td>\n",
              "      <td>2018.0</td>\n",
              "      <td>['JULIO CESAR LOPEZ HERNANDEZ', 'RICARDO DAHAB']</td>\n",
              "    </tr>\n",
              "  </tbody>\n",
              "</table>\n",
              "</div>"
            ],
            "text/plain": [
              "                                              TITULO     ANO  \\\n",
              "0   POSSVEL DESCREVER EPISDIOS DE SRIES DE TELEVI...  2017.0   \n",
              "1   POSSVEL PREVER EVASO COM BASE APENAS NO DESEM...  2021.0   \n",
              "2  10SENT A STABLE SENTIMENT ANALYSIS METHOD BASE...  2019.0   \n",
              "3  2015 IEEE LATIN AMERICA NETWORK OPERATION AND ...  2016.0   \n",
              "4  2ISOGENIES BETWEEN ELLIPTIC CURVES IN HESSE MODEL  2018.0   \n",
              "\n",
              "                                     NOMES_AJUSTADOS  \n",
              "0  ['PEDRO OLMO STANCIOLI VAZ DE MELO', 'ADRIANO ...  \n",
              "1  ['SIMONE DE LIMA MARTINS', 'ALEXANDRE PLASTINO...  \n",
              "2  ['FABRICIO BENEVENUTO DE SOUZA', 'MARCOS ANDRE...  \n",
              "3  ['AUGUSTO JOSE VENANCIO NETO', 'ALDRI LUIZ DOS...  \n",
              "4   ['JULIO CESAR LOPEZ HERNANDEZ', 'RICARDO DAHAB']  "
            ]
          },
          "execution_count": 2,
          "metadata": {},
          "output_type": "execute_result"
        }
      ],
      "source": [
        "df = pd.read_csv(\"tabela.csv\")\n",
        "df.head()"
      ]
    },
    {
      "cell_type": "code",
      "execution_count": 3,
      "metadata": {
        "id": "bJgaSETJ05BR"
      },
      "outputs": [],
      "source": [
        "''' Function that separates the names of the authors from the CSV, so we can add the nodes to the graph '''\n",
        "def formatar(nomes):\n",
        "    # Converte a string numa lista\n",
        "    nomes = eval(nomes)\n",
        "    return [f\"{nome.strip()}\" for nome in nomes]\n",
        "\n",
        "# Aplica a função a coluna de nomes\n",
        "nomesNodes = df['NOMES_AJUSTADOS'].apply(formatar)"
      ]
    },
    {
      "cell_type": "markdown",
      "metadata": {
        "id": "uDBtwT6Y05BR"
      },
      "source": [
        "Criação do grafo"
      ]
    },
    {
      "cell_type": "code",
      "execution_count": 4,
      "metadata": {
        "id": "CS8UtsG205BS"
      },
      "outputs": [],
      "source": [
        "''' MATRIX - Creating the graph'''\n",
        "matriz = paito.Grafo(repr=\"matriz\", direcionado=False, ponderado=True)\n"
      ]
    },
    {
      "cell_type": "code",
      "execution_count": 5,
      "metadata": {
        "id": "5JjTKurD05BT"
      },
      "outputs": [],
      "source": [
        "''' LIST - Creating the graph'''\n",
        "lista = paito.Grafo(repr=\"lista\", direcionado=False, ponderado=True)\n"
      ]
    },
    {
      "cell_type": "markdown",
      "metadata": {
        "id": "Lmxy7Qow05BT"
      },
      "source": [
        "Inserção de vértices no grafo"
      ]
    },
    {
      "cell_type": "code",
      "execution_count": null,
      "metadata": {
        "colab": {
          "base_uri": "https://localhost:8080/"
        },
        "id": "LhCTxFpW05BT",
        "outputId": "87e5041d-4c56-4b0d-e2d0-39c2093aaf8e"
      },
      "outputs": [],
      "source": [
        "''' MATRIX - Addign the nodes (authors) in the graph '''\n",
        "\n",
        "for array in nomesNodes:\n",
        "    for nome in array:\n",
        "        if nome not in matriz.vertices:\n",
        "            matriz.adicionarVertice(nome)"
      ]
    },
    {
      "cell_type": "code",
      "execution_count": null,
      "metadata": {
        "colab": {
          "base_uri": "https://localhost:8080/"
        },
        "id": "laEDKquC05BT",
        "outputId": "2f925786-b1cd-4c59-fef7-2870e332d1e2"
      },
      "outputs": [],
      "source": [
        "''' LIST - Addign the nodes (authors) in the graph '''\n",
        "\n",
        "for array in nomesNodes:\n",
        "    for nome in array:\n",
        "        if nome not in lista.vertices:\n",
        "            lista.adicionarVertice(nome)\n"
      ]
    },
    {
      "cell_type": "markdown",
      "metadata": {
        "id": "s91waP6k05BT"
      },
      "source": [
        "Inserção de Arestas entre os autores no grafo"
      ]
    },
    {
      "cell_type": "code",
      "execution_count": null,
      "metadata": {
        "colab": {
          "base_uri": "https://localhost:8080/"
        },
        "id": "LWXWAEAk05BT",
        "outputId": "fa5f7685-3afb-4a51-d331-d55e0939f125"
      },
      "outputs": [],
      "source": [
        "''' MATRIX - Adding edges between the authors '''\n",
        "\n",
        "from itertools import combinations\n",
        "\n",
        "nomes_ajustados = df['NOMES_AJUSTADOS'].apply(lambda x: eval(x))\n",
        "peso = 1\n",
        "\n",
        "for nomes in nomes_ajustados:\n",
        "    if len(nomes) > 1:\n",
        "        # Gerar todas as combinações possíveis de pares de nomes\n",
        "        combinacoes = combinations(nomes, 2)\n",
        "        for nome1, nome2 in combinacoes:\n",
        "            # se a aresta já existir, incrementa no peso\n",
        "            if matriz.verificarAresta(nome1, nome2) or matriz.verificarAresta(nome2, nome1) :\n",
        "                peso = matriz.recuperarPeso(nome1, nome2)\n",
        "                novoPeso = peso + 1\n",
        "                matriz.atualizarPesoAresta(nome1, nome2, novoPeso)\n",
        "\n",
        "            # se não existir, adiciona aresta\n",
        "            else:\n",
        "                matriz.adicionarAresta(nome1, nome2)\n",
        "\n"
      ]
    },
    {
      "cell_type": "code",
      "execution_count": null,
      "metadata": {
        "colab": {
          "base_uri": "https://localhost:8080/"
        },
        "id": "I2vcMr5y05BU",
        "outputId": "fcfa2657-3c5a-4623-db2e-13d0a3504650"
      },
      "outputs": [],
      "source": [
        "''' LIST - Adding edges between the authors '''\n",
        "\n",
        "from itertools import combinations\n",
        "\n",
        "nomes_ajustados = df['NOMES_AJUSTADOS'].apply(lambda x: eval(x))\n",
        "peso = 1\n",
        "\n",
        "for nomes in nomes_ajustados:\n",
        "    if len(nomes) > 1:\n",
        "        # Gerar todas as combinações possíveis de pares de nomes\n",
        "        combinacoes = combinations(nomes, 2)\n",
        "        for nome1, nome2 in combinacoes:\n",
        "            # se a aresta já existir, incrementa no peso\n",
        "            if lista.verificarAresta(nome1, nome2) or lista.verificarAresta(nome2, nome1) :\n",
        "                peso = lista.recuperarPeso(nome1, nome2)\n",
        "                novoPeso = peso + 1\n",
        "                lista.atualizarPesoAresta(nome1, nome2, novoPeso)\n",
        "\n",
        "            # se não existir, adiciona aresta\n",
        "            else:\n",
        "                lista.adicionarAresta(nome1, nome2)\n",
        "\n"
      ]
    },
    {
      "cell_type": "markdown",
      "metadata": {
        "id": "B2KjSiJW05BU"
      },
      "source": [
        "### 1) Quais pares de autores são os mais produtivos dentro da rede? Elenque os 10 pares de autores"
      ]
    },
    {
      "cell_type": "code",
      "execution_count": null,
      "metadata": {
        "id": "XAi9BXwv05BU",
        "outputId": "eefbb838-9bb5-4ccc-cf63-28d275da6765"
      },
      "outputs": [
        {
          "name": "stdout",
          "output_type": "stream",
          "text": [
            "[('RODRIGO DA ROSA RIGHI', 'CRISTIANO ANDRE DA COSTA', 192), ('BRUNO ZATT', 'LUCIANO VOLCAN AGOSTINI', 155), ('SIMONE ANDRE DA COSTA CAVALHEIRO', 'LUCIANA FOSS', 104), ('LUIZ GUSTAVO LEAO FERNANDES', 'DALVAN JAIR GRIEBLER', 80), ('ALDRI LUIZ DOS SANTOS', 'MICHELE NOGUEIRA LIMA', 76), ('EVERTON RANIELLY DE SOUSA CAVALCANTE', 'THAIS VASCONCELOS BATISTA', 68), ('DJAMEL FAWZI HADJ SADOK', 'JUDITH KELNER', 67), ('ADENAUER CORREA YAMIN', 'ANA MARILZA PERNAS FLEISCHMANN', 63), ('PEDRO HENRIQUE BUGATTI', 'PRISCILA TIEMI MAEDA SAITO', 58), ('CAETANO TRAINA JUNIOR', 'AGMA JUCI MACHADO TRAINA', 58)]\n"
          ]
        }
      ],
      "source": [
        "''' MATRIX - More productive authors function '''\n",
        "def mais_produtivos():\n",
        "    pares = []\n",
        "    for vertice in matriz.vertices:\n",
        "        vizinhos = matriz.pegaVizinhos(vertice)\n",
        "        for vizinho in vizinhos:\n",
        "            peso = matriz.recuperarPeso(vertice, vizinho)\n",
        "            if not any((v == vertice and w == vizinho) or (v == vizinho and w == vertice) for v, w, p in pares):\n",
        "                pares.append((vertice, vizinho, peso))\n",
        "\n",
        "    # ordena a lista de pares de nomes em ordem decrescente\n",
        "    pares.sort(key=lambda x: x[2], reverse=True)\n",
        "\n",
        "    # retorna apenas os 10 tops\n",
        "    return pares[:10]\n",
        "\n",
        "print(mais_produtivos())\n",
        "\n"
      ]
    },
    {
      "cell_type": "code",
      "execution_count": null,
      "metadata": {
        "id": "oee2qCxs05BU",
        "outputId": "6f2ea126-390a-4354-e194-5db616113722"
      },
      "outputs": [
        {
          "name": "stdout",
          "output_type": "stream",
          "text": [
            "[('RODRIGO DA ROSA RIGHI', 'CRISTIANO ANDRE DA COSTA', 192), ('BRUNO ZATT', 'LUCIANO VOLCAN AGOSTINI', 155), ('SIMONE ANDRE DA COSTA CAVALHEIRO', 'LUCIANA FOSS', 104), ('LUIZ GUSTAVO LEAO FERNANDES', 'DALVAN JAIR GRIEBLER', 80), ('ALDRI LUIZ DOS SANTOS', 'MICHELE NOGUEIRA LIMA', 76), ('EVERTON RANIELLY DE SOUSA CAVALCANTE', 'THAIS VASCONCELOS BATISTA', 68), ('DJAMEL FAWZI HADJ SADOK', 'JUDITH KELNER', 67), ('ADENAUER CORREA YAMIN', 'ANA MARILZA PERNAS FLEISCHMANN', 63), ('PEDRO HENRIQUE BUGATTI', 'PRISCILA TIEMI MAEDA SAITO', 58), ('CAETANO TRAINA JUNIOR', 'AGMA JUCI MACHADO TRAINA', 58)]\n"
          ]
        }
      ],
      "source": [
        "''' LIST - More productive authors function '''\n",
        "def mais_produtivos():\n",
        "    pares = []\n",
        "    for vertice in matriz.vertices:\n",
        "        vizinhos = matriz.pegaVizinhos(vertice)\n",
        "        for vizinho in vizinhos:\n",
        "            peso = lista.recuperarPeso(vertice, vizinho)\n",
        "            if not any((v == vertice and w == vizinho) or (v == vizinho and w == vertice) for v, w, p in pares):\n",
        "                pares.append((vertice, vizinho, peso))\n",
        "\n",
        "    # ordena a lista de pares de nomes em ordem decrescente\n",
        "    pares.sort(key=lambda x: x[2], reverse=True)\n",
        "\n",
        "    # retorna apenas os 10 tops\n",
        "    return pares[:10]\n",
        "\n",
        "print(mais_produtivos())"
      ]
    },
    {
      "cell_type": "markdown",
      "metadata": {
        "id": "RR_srcns05BV"
      },
      "source": [
        "### 2) Quantas componentes o grafo possui? O que isso representa?\n"
      ]
    },
    {
      "cell_type": "code",
      "execution_count": null,
      "metadata": {
        "id": "prjYg6WT05BV",
        "outputId": "51bef3db-7b23-405d-cc1b-379c5e52f789"
      },
      "outputs": [
        {
          "name": "stdout",
          "output_type": "stream",
          "text": [
            "O grafo apresenta o total de 5 componentes.\n"
          ]
        }
      ],
      "source": [
        "''' MATRIX - Components extraction '''\n",
        "\n",
        "components = matriz.extractComponents()\n",
        "print(f\"O grafo apresenta o total de {len(components)} componentes.\")"
      ]
    },
    {
      "cell_type": "code",
      "execution_count": 28,
      "metadata": {
        "id": "OsJKzqSv05BV",
        "outputId": "a6ff4555-7cbc-4ca3-c901-4cd0fccc5ea7"
      },
      "outputs": [
        {
          "name": "stdout",
          "output_type": "stream",
          "text": [
            "O grafo apresenta o total de 5 componentes.\n",
            "0.003263235092163086\n"
          ]
        }
      ],
      "source": [
        "''' LIST - Components extraction '''\n",
        "\n",
        "components = lista.extractComponents()\n",
        "print(f\"O grafo apresenta o total de {len(components)} componentes.\")\n"
      ]
    },
    {
      "cell_type": "markdown",
      "metadata": {
        "id": "gDwZYQMZ05BV"
      },
      "source": [
        "### 3) Qual é a distribuição dos graus dos nós da rede? Essa distribuição demonstra comportamento de uma rede complexa?"
      ]
    },
    {
      "cell_type": "code",
      "execution_count": null,
      "metadata": {
        "id": "Gmb2Ov5205BV",
        "outputId": "22ca45ce-bce7-4e78-cfad-d603ea2311f4"
      },
      "outputs": [
        {
          "name": "stderr",
          "output_type": "stream",
          "text": [
            "d:\\faculdadadade\\5º Período\\Graphs\\TDE2\\TDE-2---Graphs\\paito.py:1403: UserWarning: \n",
            "The palette list has fewer values (8) than needed (24) and will cycle, which may produce an uninterpretable plot.\n",
            "  sns.countplot(data=df, x='graus', palette=colors, hue='graus', dodge=False, legend=False)\n"
          ]
        },
        {
          "data": {
            "image/png": "[encoded data removed]",
            "text/plain": [
              "<Figure size 640x480 with 1 Axes>"
            ]
          },
          "metadata": {},
          "output_type": "display_data"
        }
      ],
      "source": [
        "''' MATRIX - Generating the histogram '''\n",
        "matriz.gerarHistograma()"
      ]
    },
    {
      "cell_type": "code",
      "execution_count": null,
      "metadata": {
        "id": "mjaTKxFD05BV"
      },
      "outputs": [],
      "source": [
        "''' LIST - Generating the histogram '''\n",
        "lista.gerarHistograma()"
      ]
    },
    {
      "cell_type": "markdown",
      "metadata": {
        "id": "1CKrCEC505BV"
      },
      "source": [
        "### 4) Quais são os 10 autores mais influentes perante a métrica de centralidade de grau?  O que essa métrica representa nesse contexto?"
      ]
    },
    {
      "cell_type": "code",
      "execution_count": null,
      "metadata": {
        "id": "wJpMQ7VK05BV",
        "outputId": "593bd5db-7049-4a93-8214-9c677c708744"
      },
      "outputs": [
        {
          "name": "stdout",
          "output_type": "stream",
          "text": [
            "[('JO UEYAMA', 0.0331), ('MARCOS KALINOWSKI', 0.0303), ('LI WEIGANG', 0.0289), ('ANTONIO ALFREDO FERREIRA LOUREIRO', 0.0289), ('WAGNER MEIRA JUNIOR', 0.0275), ('CRISTIANO ANDRE DA COSTA', 0.0275), ('RODOLFO IPOLITO MENEGUETTE', 0.0275), ('GERALDO PEREIRA ROCHA FILHO', 0.0262), ('DAVID MENOTTI GOMES', 0.0262), ('UEVERTON DOS SANTOS SOUZA', 0.0262)]\n"
          ]
        }
      ],
      "source": [
        "''' MATRIX - Function that calculates the top 10 Degree Centralities of the graph'''\n",
        "\n",
        "def top_degree_centralities():\n",
        "    degreeCentralities = matriz.allDegreeCentralities()\n",
        "\n",
        "    # retorna os top 10 vértices com a maior centralidade de grau em ordem decrescente\n",
        "    return sorted(degreeCentralities.items(), key=lambda x: x[1], reverse=True)[:10]\n",
        "\n",
        "print(top_degree_centralities())"
      ]
    },
    {
      "cell_type": "code",
      "execution_count": null,
      "metadata": {
        "id": "7nuE2qKJ05BW",
        "outputId": "39daa8d3-1550-4d6c-e5e6-9baf0097ff3c"
      },
      "outputs": [
        {
          "name": "stdout",
          "output_type": "stream",
          "text": [
            "[('JO UEYAMA', 0.0331), ('MARCOS KALINOWSKI', 0.0303), ('LI WEIGANG', 0.0289), ('ANTONIO ALFREDO FERREIRA LOUREIRO', 0.0289), ('WAGNER MEIRA JUNIOR', 0.0275), ('CRISTIANO ANDRE DA COSTA', 0.0275), ('RODOLFO IPOLITO MENEGUETTE', 0.0275), ('GERALDO PEREIRA ROCHA FILHO', 0.0262), ('DAVID MENOTTI GOMES', 0.0262), ('UEVERTON DOS SANTOS SOUZA', 0.0262)]\n"
          ]
        }
      ],
      "source": [
        "''' LIST - Function that calculates the top 10 Degree Centralities of the graph'''\n",
        "\n",
        "def top_degree_centralities():\n",
        "    degreeCentralities = lista.allDegreeCentralities()\n",
        "\n",
        "    # retorna os top 10 vértices com a maior centralidade de grau em ordem decrescente\n",
        "    return sorted(degreeCentralities.items(), key=lambda x: x[1], reverse=True)[:10]\n",
        "\n",
        "print(top_degree_centralities())"
      ]
    },
    {
      "cell_type": "markdown",
      "metadata": {
        "id": "vtI9LJ2S05BW"
      },
      "source": [
        "### 5) Quais são os 10 autores mais influentes perante a métrica de centralidade de intermediação?"
      ]
    },
    {
      "cell_type": "code",
      "execution_count": null,
      "metadata": {
        "colab": {
          "base_uri": "https://localhost:8080/"
        },
        "id": "IZig4zmA05BW",
        "outputId": "131107bf-cbb0-4d26-fce0-e16fd330d3db"
      },
      "outputs": [
        {
          "name": "stdout",
          "output_type": "stream",
          "text": [
            "[('JO UEYAMA', 0.04533683453823752), ('EDISON PIGNATON DE FREITAS', 0.03728785689773236), ('ROBERTO PEREIRA', 0.03480063746255947), ('ANDRE CARLOS PONCE DE LEON FERREIRA DE CARVALHO', 0.031774277534539236), ('MARCOS KALINOWSKI', 0.031088716179455498), ('VINICIUS FERNANDES DOS SANTOS', 0.03080951447518708), ('ADRIANO LORENA INACIO DE OLIVEIRA', 0.027830527736847428), ('GISELE LOBO PAPPA', 0.02676359660837196), ('LI WEIGANG', 0.02666901614997547), ('ALDRI LUIZ DOS SANTOS', 0.02560827949536231)]\n",
            "2275.049369096756\n"
          ]
        }
      ],
      "source": [
        "''' MATRIX - Function that calculates the top 10 Node Betweenness of the graph'''\n",
        "\n",
        "def top_bet_centralities():\n",
        "    betCentralities = matriz.allNodesBet()\n",
        "\n",
        "    # retorna os top 10 vértices com a maior centralidade de grau em ordem decrescente\n",
        "    return sorted(betCentralities.items(), key=lambda x: x[1], reverse=True)[:10]\n",
        "\n",
        "print(top_bet_centralities())\n"
      ]
    },
    {
      "cell_type": "code",
      "execution_count": null,
      "metadata": {
        "id": "xeBmfQm905BW",
        "outputId": "be193458-dfc8-487e-b101-f3ca33870e4b"
      },
      "outputs": [
        {
          "name": "stdout",
          "output_type": "stream",
          "text": [
            "[('JO UEYAMA', 0.04533683453823752), ('EDISON PIGNATON DE FREITAS', 0.03728785689773236), ('ROBERTO PEREIRA', 0.03480063746255947), ('ANDRE CARLOS PONCE DE LEON FERREIRA DE CARVALHO', 0.031774277534539236), ('MARCOS KALINOWSKI', 0.031088716179455498), ('VINICIUS FERNANDES DOS SANTOS', 0.03080951447518708), ('ADRIANO LORENA INACIO DE OLIVEIRA', 0.027830527736847428), ('GISELE LOBO PAPPA', 0.02676359660837196), ('LI WEIGANG', 0.02666901614997547), ('ALDRI LUIZ DOS SANTOS', 0.02560827949536231)]\n"
          ]
        }
      ],
      "source": [
        "''' LIST - Function that calculates the top 10 Node Betweenness of the graph'''\n",
        "def top_bet_centralities():\n",
        "    betCentralities = lista.allNodesBet()\n",
        "\n",
        "    # retorna os top 10 vértices com a maior centralidade em ordem decrescente\n",
        "    return sorted(betCentralities.items(), key=lambda x: x[1], reverse=True)[:10]\n",
        "\n",
        "print(top_bet_centralities())"
      ]
    },
    {
      "cell_type": "markdown",
      "metadata": {
        "id": "rhbJhGgU05BW"
      },
      "source": [
        "### 6) Quais são os 10 autores mais influentes perante a métrica de centralidade de proximidade? O que essa métrica representa nesse contexto?"
      ]
    },
    {
      "cell_type": "code",
      "execution_count": null,
      "metadata": {
        "id": "EprxGiUh05BW",
        "outputId": "f8ba4292-775c-469d-eeb9-8663ac65bbc5"
      },
      "outputs": [
        {
          "name": "stdout",
          "output_type": "stream",
          "text": [
            "[('ZHAO LIANG', 0.2871), ('ZANONI DIAS', 0.2585), ('YURI ABITBOL DE MENEZES FROTA', 0.2173), ('YOSHIKO WAKABAYASHI', 0.2249), ('YOSHIHARU KOHAYAKAWA', 0.2167), ('WILLIAM ROBSON SCHWARTZ', 0.2866), ('WEVERTON LUIS DA COSTA CORDEIRO', 0.2531), ('WANDERLEY LOPES DE SOUZA', 0.2016), ('WALDEMAR CELES FILHO', 0.2201), ('WAGNER MEIRA JUNIOR', 0.2657)]\n"
          ]
        }
      ],
      "source": [
        "''' MATRIX - Function that calculates the top 10 Closeness of the graph'''\n",
        "def top_closeness():\n",
        "    closenesses = matriz.closeness()\n",
        "\n",
        "    return sorted(closenesses, reverse=True)[:10]\n",
        "\n",
        "print(top_closeness())"
      ]
    },
    {
      "cell_type": "code",
      "execution_count": null,
      "metadata": {
        "id": "6tXY5pN-05BX",
        "outputId": "24c9abdf-e9c8-4388-f774-43e4f8df9a79"
      },
      "outputs": [
        {
          "name": "stdout",
          "output_type": "stream",
          "text": [
            "[('ZHAO LIANG', 0.2871), ('ZANONI DIAS', 0.2585), ('YURI ABITBOL DE MENEZES FROTA', 0.2173), ('YOSHIKO WAKABAYASHI', 0.2249), ('YOSHIHARU KOHAYAKAWA', 0.2167), ('WILLIAM ROBSON SCHWARTZ', 0.2866), ('WEVERTON LUIS DA COSTA CORDEIRO', 0.2531), ('WANDERLEY LOPES DE SOUZA', 0.2016), ('WALDEMAR CELES FILHO', 0.2201), ('WAGNER MEIRA JUNIOR', 0.2657)]\n"
          ]
        }
      ],
      "source": [
        "''' LIST - Function that calculates the top 10 Closeness of the graph'''\n",
        "def top_closeness():\n",
        "    closenesses = lista.closeness()\n",
        "\n",
        "    return sorted(closenesses, reverse=True)[:10]\n",
        "\n",
        "print(top_closeness())"
      ]
    },
    {
      "cell_type": "markdown",
      "metadata": {
        "id": "FMZg-tQO05BX"
      },
      "source": [
        "### 7) Quais são os 10 autores mais influentes perante a metrica de centralidade de excentricidade? O que essa métrica representa nesse contexto?"
      ]
    },
    {
      "cell_type": "code",
      "execution_count": null,
      "metadata": {
        "id": "hqE1AB8X05BX",
        "outputId": "e1bfe67b-301d-4dd4-a896-91b345551790"
      },
      "outputs": [
        {
          "name": "stdout",
          "output_type": "stream",
          "text": [
            "[('PEDRO HENRIQUE BUGATTI', 1), ('PRISCILA TIEMI MAEDA SAITO', 1), ('EDUARDO FONTOURA COSTA', 1), ('ELIAS SALOMAO HELOU NETO', 1), ('EDUARDO SANY LABER', 1), ('MARCO SERPA MOLINARO', 1), ('EDUARDO TODT', 6), ('SEIJI ISOTANI', 6), ('DANIEL WEINGAERTNER', 6), ('ALCEU DE SOUZA BRITTO JR', 6)]\n"
          ]
        }
      ],
      "source": [
        "''' LIST - Function that calculates the top 10 eccentricities of the graph'''\n",
        "def top_eccentricities():\n",
        "    ecc = []\n",
        "\n",
        "    eccentricities = lista.eccentricity()\n",
        "    for vertice, eccentricity in eccentricities:\n",
        "        if eccentricity > 0:\n",
        "            ecc.append((vertice, eccentricity))\n",
        "\n",
        "    return sorted(ecc, key=lambda x: x[1])[:10]\n",
        "\n",
        "\n",
        "print(top_eccentricities())\n",
        "\n"
      ]
    },
    {
      "cell_type": "code",
      "execution_count": null,
      "metadata": {
        "id": "ho-RbKmO05BX",
        "outputId": "49c29d8a-1db9-4d97-a696-8080b9047222"
      },
      "outputs": [
        {
          "name": "stdout",
          "output_type": "stream",
          "text": [
            "[('PEDRO HENRIQUE BUGATTI', 1), ('PRISCILA TIEMI MAEDA SAITO', 1), ('EDUARDO FONTOURA COSTA', 1), ('ELIAS SALOMAO HELOU NETO', 1), ('EDUARDO SANY LABER', 1), ('MARCO SERPA MOLINARO', 1), ('EDUARDO TODT', 6), ('SEIJI ISOTANI', 6), ('DANIEL WEINGAERTNER', 6), ('ALCEU DE SOUZA BRITTO JR', 6)]\n"
          ]
        }
      ],
      "source": [
        "''' MATRIX - Function that calculates the top 10 eccentricities of the graph'''\n",
        "def top_eccentricities():\n",
        "    ecc = []\n",
        "\n",
        "    eccentricities = matriz.eccentricity()\n",
        "    for vertice, eccentricity in eccentricities:\n",
        "        if eccentricity > 0:\n",
        "            ecc.append((vertice, eccentricity))\n",
        "\n",
        "    return sorted(ecc, key=lambda x: x[1])[:10]\n",
        "\n",
        "\n",
        "print(top_eccentricities())\n"
      ]
    },
    {
      "cell_type": "markdown",
      "metadata": {
        "id": "89oSGzhD05BX"
      },
      "source": [
        "### 9) Quais são as 10 arestas mais relevantes no grafo perante a métrica de centralidade de intermediação? Dentre essas arestas, há algum comportamento que se destaca?"
      ]
    },
    {
      "cell_type": "code",
      "execution_count": null,
      "metadata": {
        "id": "wpRx0wLl05BX"
      },
      "outputs": [],
      "source": [
        "''' LIST - Function that calculates the top 10 edge betweenness of the graph'''\n",
        "\n"
      ]
    },
    {
      "cell_type": "markdown",
      "metadata": {
        "id": "U_y2aqRD05BY"
      },
      "source": [
        "### 10) Qual é a média das distâncias geodésicas da maior componente do grafo? O que essa métrica representa nesse contexto?"
      ]
    },
    {
      "cell_type": "code",
      "execution_count": 14,
      "metadata": {
        "id": "c4EY4hCW05BY"
      },
      "outputs": [
        {
          "name": "stdout",
          "output_type": "stream",
          "text": [
            "4.301900788131665\n"
          ]
        }
      ],
      "source": [
        "''' LIST - The function returns a subgraph (the biggest component) and from it we calculate the Average Geodesic Distance '''\n",
        "def maior_component_finder():\n",
        "    components = lista.extractComponents()\n",
        "    maior = 0\n",
        "    maiorComponent = None\n",
        "\n",
        "    for component in components:\n",
        "        tam = len(component)\n",
        "        if tam > maior:\n",
        "            maior = tam\n",
        "            maiorComponent = component\n",
        "    return lista.grafoComponent(maiorComponent)\n",
        "\n",
        "\n",
        "maiorComponent = maior_component_finder()\n",
        "\n",
        "print(maiorComponent.geodesic())\n"
      ]
    },
    {
      "cell_type": "code",
      "execution_count": null,
      "metadata": {},
      "outputs": [],
      "source": [
        "''' MATRIX - The function returns a subgraph (the biggest component) and from it we calculate the Average Geodesic Distance '''\n",
        "def maior_component_finder():\n",
        "    components = matriz.extractComponents()\n",
        "    maior = 0\n",
        "    maiorComponent = None\n",
        "\n",
        "    for component in components:\n",
        "        tam = len(component)\n",
        "        if tam > maior:\n",
        "            maior = tam\n",
        "            maiorComponent = component\n",
        "    return matriz.grafoComponent(maiorComponent)\n",
        "\n",
        "\n",
        "maiorComponent = maior_component_finder()\n",
        "\n",
        "print(maiorComponent.geodesic())\n"
      ]
    },
    {
      "cell_type": "markdown",
      "metadata": {
        "id": "99uZPgS905BY"
      },
      "source": [
        "### 11) Dentro do grafo, encontre a componente com a maior quantidade de vértices. Dentro desta componente, execute o algoritmo de Girvan-Newman e encontre as quatro principais comunidades. Para cada comunidade, identifique e discuta os autores mais significativos de acordo com as métricas que julgar mais adequado"
      ]
    },
    {
      "cell_type": "code",
      "execution_count": 17,
      "metadata": {},
      "outputs": [],
      "source": [
        "''' LIST - The function returns a subgraph (the biggest component) and from it we are able to find the communities '''\n",
        "inicio = time()\n",
        "def maior_component_finder():\n",
        "    components = lista.extractComponents()\n",
        "    maior = 0\n",
        "    maiorComponent = None\n",
        "\n",
        "    for component in components:\n",
        "        tam = len(component)\n",
        "        if tam > maior:\n",
        "            maior = tam\n",
        "            maiorComponent = component\n",
        "    return lista.grafoComponent(maiorComponent)\n",
        "\n",
        "\n",
        "maiorComponent = maior_component_finder()\n",
        "\n",
        "print(maiorComponent.communityDetection(4))\n",
        "\n",
        "fim = time()\n",
        "print(fim - inicio)"
      ]
    },
    {
      "cell_type": "code",
      "execution_count": null,
      "metadata": {},
      "outputs": [],
      "source": [
        "''' MATRIX - The function returns a subgraph (the biggest component) and from it we are able to find the communities '''\n",
        "def maior_component_finder():\n",
        "    components = matriz.extractComponents()\n",
        "    maior = 0\n",
        "    maiorComponent = None\n",
        "\n",
        "    for component in components:\n",
        "        tam = len(component)\n",
        "        if tam > maior:\n",
        "            maior = tam\n",
        "            maiorComponent = component\n",
        "    return matriz.grafoComponent(maiorComponent)\n",
        "\n",
        "\n",
        "maiorComponent = maior_component_finder()\n",
        "\n",
        "print(maiorComponent.communityDetection(4))"
      ]
    }
  ],
  "metadata": {
    "colab": {
      "provenance": []
    },
    "kernelspec": {
      "display_name": "Python 3",
      "language": "python",
      "name": "python3"
    },
    "language_info": {
      "codemirror_mode": {
        "name": "ipython",
        "version": 3
      },
      "file_extension": ".py",
      "mimetype": "text/x-python",
      "name": "python",
      "nbconvert_exporter": "python",
      "pygments_lexer": "ipython3",
      "version": "3.12.1"
    }
  },
  "nbformat": 4,
  "nbformat_minor": 0
}
